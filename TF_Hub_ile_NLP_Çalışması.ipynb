{
  "nbformat": 4,
  "nbformat_minor": 0,
  "metadata": {
    "colab": {
      "name": "TF-Hub ile NLP Çalışması.ipynb",
      "provenance": [],
      "collapsed_sections": []
    },
    "kernelspec": {
      "name": "python3",
      "display_name": "Python 3"
    },
    "accelerator": "GPU"
  },
  "cells": [
    {
      "cell_type": "markdown",
      "metadata": {
        "id": "Bmw8mSTQM4cX"
      },
      "source": [
        "<h2 align=center> Bag of Words</h2>\n",
        "\n",
        "---"
      ]
    },
    {
      "cell_type": "code",
      "metadata": {
        "colab": {
          "base_uri": "https://localhost:8080/"
        },
        "id": "KqVnbnu36Zbk",
        "outputId": "f81c7df4-6700-42f4-f9b9-3452914453e6"
      },
      "source": [
        "import nltk\n",
        "\n",
        "from nltk.tokenize import sent_tokenize\n",
        "from sklearn.feature_extraction.text import CountVectorizer\n",
        "\n",
        "cümle = \"\"\"When I was 17, I read a quote that went something like: If you live\n",
        "      each day as if it was your last, someday you’ll most certainly be right. \n",
        "      It made an impression on me, and since then, for the past 33 years, I have \n",
        "      looked in the mirror every morning and asked myself: If today were the \n",
        "      last day of my life, would I want to do what I am about to do today? And \n",
        "      whenever the answer has been No for too many days in a row, I know \n",
        "      I need to change something. \"\"\"\n",
        "\n",
        "# Tüm textten cümleleri tokenize et\n",
        "token_cümle = sent_tokenize(cümle)\n",
        "\n",
        "cv = CountVectorizer(lowercase=True,stop_words='english')\n",
        "\n",
        "cümle_sayım = cv.fit_transform(token_cümle)\n",
        "\n",
        "# Sözlüğümüz ve sıklık dağılımı (tokenized cümlede) \n",
        "# print(cv.vocabulary_)\n",
        "print(cümle_sayım.toarray())"
      ],
      "execution_count": null,
      "outputs": [
        {
          "output_type": "stream",
          "text": [
            "[[1 0 0 0 1 0 1 0 0 0 0 1 1 1 0 0 0 0 0 1 1 1 0 1 0 0 1 0]\n",
            " [0 1 0 1 0 0 1 0 1 0 1 0 0 0 1 1 1 0 1 0 0 0 0 0 2 1 0 1]\n",
            " [0 0 1 0 0 1 0 1 0 1 0 0 0 0 0 0 0 1 0 0 0 0 1 0 0 0 0 0]]\n"
          ],
          "name": "stdout"
        }
      ]
    },
    {
      "cell_type": "code",
      "metadata": {
        "colab": {
          "base_uri": "https://localhost:8080/"
        },
        "id": "bOyxYO0-_Gpf",
        "outputId": "d8adb190-77e2-4a25-e9f8-f0f373fbffbc"
      },
      "source": [
        "token_cümle"
      ],
      "execution_count": null,
      "outputs": [
        {
          "output_type": "execute_result",
          "data": {
            "text/plain": [
              "['When I was 17, I read a quote that went something like: If you live \\n      each day as if it was your last, someday you’ll most certainly be right.',\n",
              " 'It made an impression on me, and since then, for the past 33 years, I have \\n      looked in the mirror every morning and asked myself: If today were the \\n      last day of my life, would I want to do what I am about to do today?',\n",
              " 'And \\n      whenever the answer has been No for too many days in a row, I know \\n      I need to change something.']"
            ]
          },
          "metadata": {
            "tags": []
          },
          "execution_count": 8
        }
      ]
    },
    {
      "cell_type": "markdown",
      "metadata": {
        "id": "YOPcjnDDc5c7"
      },
      "source": [
        "<h2 align=center> NLP için Transfer Learning | TensorFlow Hub</h2>\n",
        "\n",
        "---"
      ]
    },
    {
      "cell_type": "code",
      "metadata": {
        "id": "YxB26qlms3qE",
        "colab": {
          "base_uri": "https://localhost:8080/"
        },
        "outputId": "f0f7e3fd-e0ca-4403-a6d2-b25f1ec30a09"
      },
      "source": [
        "import numpy as np\n",
        "import seaborn as sns\n",
        "import matplotlib.pyplot as plt\n",
        "import pandas as pd\n",
        "import matplotlib.ticker as ticker\n",
        "\n",
        "from sklearn.model_selection import train_test_split\n",
        "\n",
        "import tensorflow as tf\n",
        "import tensorflow_hub as hub\n",
        "\n",
        "plt.rcParams['figure.figsize'] = (12, 8)\n",
        "from IPython import display\n",
        "\n",
        "#!pip install -q git+https://github.com/tensorflow/docs\n",
        "\n",
        "import tensorflow_docs as tfdocs\n",
        "import tensorflow_docs.modeling\n",
        "import tensorflow_docs.plots\n",
        "\n",
        "print(\"Version: \", tf.__version__)\n",
        "print(\"Hub version: \", hub.__version__)"
      ],
      "execution_count": null,
      "outputs": [
        {
          "output_type": "stream",
          "text": [
            "Version:  2.4.1\n",
            "Hub version:  0.12.0\n"
          ],
          "name": "stdout"
        }
      ]
    },
    {
      "cell_type": "markdown",
      "metadata": {
        "id": "J6qe4NYUp0vU"
      },
      "source": [
        "##  Verinin Yüklenmesi"
      ]
    },
    {
      "cell_type": "markdown",
      "metadata": {
        "id": "Eo7o-3FxC9jR"
      },
      "source": [
        "Eğer siz de veriyi incelemek isterseniz [indirme linki buradadır.](https://archive.org/download/fine-tune-bert-tensorflow-train.csv/train.csv.zip)."
      ]
    },
    {
      "cell_type": "code",
      "metadata": {
        "id": "hfF56xcgs8Eb",
        "colab": {
          "base_uri": "https://localhost:8080/"
        },
        "outputId": "a6b0a670-da62-4954-de99-41c14b8b5475"
      },
      "source": [
        "url = \"https://archive.org/download/fine-tune-bert-tensorflow-train.csv/train.csv.zip\"\n",
        "\n",
        "df = pd.read_csv(url, compression='zip')\n",
        "df.shape"
      ],
      "execution_count": null,
      "outputs": [
        {
          "output_type": "execute_result",
          "data": {
            "text/plain": [
              "(1306122, 3)"
            ]
          },
          "metadata": {
            "tags": []
          },
          "execution_count": 2
        }
      ]
    },
    {
      "cell_type": "markdown",
      "metadata": {
        "id": "x3qdGO-jU_AE"
      },
      "source": [
        "Missing Value yok\n",
        "\n",
        "* 1306122 entries == 1306122 non-null"
      ]
    },
    {
      "cell_type": "code",
      "metadata": {
        "colab": {
          "base_uri": "https://localhost:8080/"
        },
        "id": "yGu2mA8CRzX4",
        "outputId": "82ee5598-0e49-44c2-8670-2edf4af71973"
      },
      "source": [
        "df.info()"
      ],
      "execution_count": null,
      "outputs": [
        {
          "output_type": "stream",
          "text": [
            "<class 'pandas.core.frame.DataFrame'>\n",
            "RangeIndex: 1306122 entries, 0 to 1306121\n",
            "Data columns (total 3 columns):\n",
            " #   Column         Non-Null Count    Dtype \n",
            "---  ------         --------------    ----- \n",
            " 0   qid            1306122 non-null  object\n",
            " 1   question_text  1306122 non-null  object\n",
            " 2   target         1306122 non-null  int64 \n",
            "dtypes: int64(1), object(2)\n",
            "memory usage: 29.9+ MB\n"
          ],
          "name": "stdout"
        }
      ]
    },
    {
      "cell_type": "markdown",
      "metadata": {
        "id": "4K1JTanE-qPg"
      },
      "source": [
        "##### Dağılımı incele"
      ]
    },
    {
      "cell_type": "code",
      "metadata": {
        "id": "08kiCrj5tzcj",
        "colab": {
          "base_uri": "https://localhost:8080/",
          "height": 529
        },
        "outputId": "23d7b706-e795-408b-91a8-2db67a80a046"
      },
      "source": [
        "plt.figure(figsize = (12,7))\n",
        "ax = sns.countplot(data = df, x = 'target')\n",
        "plt.xticks(size=12)\n",
        "plt.xlabel('Hedef LabeL', size = 14)\n",
        "plt.yticks(size=12)\n",
        "plt.ylabel('Toplam', size=14)\n",
        "ax.yaxis.set_major_formatter(ticker.EngFormatter())\n",
        "\n",
        "ax.set_xticklabels(ax.get_xticklabels(), ha=\"center\")\n",
        "total = len(df)\n",
        "for p in ax.patches:\n",
        "    percentage = f'{100 * p.get_height() / total:.1f}%\\n'\n",
        "    x = p.get_x() + p.get_width() / 2\n",
        "    y = p.get_height()\n",
        "    ax.annotate(percentage, (x, y), ha='center', va='center')\n",
        "plt.tight_layout()\n",
        "plt.title('Label Dağılımı')\n",
        "plt.show()"
      ],
      "execution_count": null,
      "outputs": [
        {
          "output_type": "display_data",
          "data": {
            "image/png": "[encoded data removed]",
            "text/plain": [
              "<Figure size 864x504 with 1 Axes>"
            ]
          },
          "metadata": {
            "tags": [],
            "needs_background": "light"
          }
        }
      ]
    },
    {
      "cell_type": "code",
      "metadata": {
        "id": "VfWdbhfYs8Ha",
        "colab": {
          "base_uri": "https://localhost:8080/"
        },
        "outputId": "310a5da7-ada5-4ce8-dd18-3935c1467b3d"
      },
      "source": [
        "# Sklearn ile train ve validation setleri\n",
        "\n",
        "train_df, remaining = train_test_split(df, random_state=13, train_size=0.8, \n",
        "                                       stratify=df.target.values)\n",
        "\n",
        "valid_df, _ = train_test_split(remaining, random_state=13, train_size=0.2, \n",
        "                               stratify=remaining.target.values)\n",
        "train_df.shape, valid_df.shape"
      ],
      "execution_count": null,
      "outputs": [
        {
          "output_type": "execute_result",
          "data": {
            "text/plain": [
              "((1044897, 3), (52245, 3))"
            ]
          },
          "metadata": {
            "tags": []
          },
          "execution_count": 5
        }
      ]
    },
    {
      "cell_type": "code",
      "metadata": {
        "colab": {
          "base_uri": "https://localhost:8080/"
        },
        "id": "9SUIb-VRyyrx",
        "outputId": "eab43d84-e2dc-4419-e714-20f3bc0e0455"
      },
      "source": [
        "train_df['target'].value_counts()"
      ],
      "execution_count": null,
      "outputs": [
        {
          "output_type": "execute_result",
          "data": {
            "text/plain": [
              "0    980249\n",
              "1     64648\n",
              "Name: target, dtype: int64"
            ]
          },
          "metadata": {
            "tags": []
          },
          "execution_count": 6
        }
      ]
    },
    {
      "cell_type": "code",
      "metadata": {
        "colab": {
          "base_uri": "https://localhost:8080/"
        },
        "id": "BcMFe4ahUpIQ",
        "outputId": "6b14a7df-e4e0-427c-d59a-1ce6a9082243"
      },
      "source": [
        "valid_df['target'].value_counts()"
      ],
      "execution_count": null,
      "outputs": [
        {
          "output_type": "execute_result",
          "data": {
            "text/plain": [
              "0    49013\n",
              "1     3232\n",
              "Name: target, dtype: int64"
            ]
          },
          "metadata": {
            "tags": []
          },
          "execution_count": 7
        }
      ]
    },
    {
      "cell_type": "code",
      "metadata": {
        "colab": {
          "base_uri": "https://localhost:8080/"
        },
        "id": "eOgbxXPOzRNq",
        "outputId": "08b25f6d-bae9-42b7-bc92-ccf3eb151158"
      },
      "source": [
        "total = 1044897\n",
        "neg = 980249\n",
        "pos = 64648\n",
        "\n",
        "weight_for_0 = (1 / neg)*(total)/2.0 \n",
        "weight_for_1 = (1 / pos)*(total)/2.0\n",
        "\n",
        "class_weight = {0: weight_for_0, 1: weight_for_1}\n",
        "\n",
        "print('Weight for class 0: {:.2f}'.format(weight_for_0))\n",
        "print('Weight for class 1: {:.2f}'.format(weight_for_1))"
      ],
      "execution_count": null,
      "outputs": [
        {
          "output_type": "stream",
          "text": [
            "Weight for class 0: 0.53\n",
            "Weight for class 1: 8.08\n"
          ],
          "name": "stdout"
        }
      ]
    },
    {
      "cell_type": "code",
      "metadata": {
        "id": "VX1UEsALs8J8",
        "colab": {
          "base_uri": "https://localhost:8080/"
        },
        "outputId": "80e8bd8c-5e1c-4869-de48-f65163098c83"
      },
      "source": [
        "# Veri setinden örnek cümleler\n",
        "train_df['question_text'].sample(10).values"
      ],
      "execution_count": null,
      "outputs": [
        {
          "output_type": "execute_result",
          "data": {
            "text/plain": [
              "array(['How a sun could be blue or green in colour?',\n",
              "       'What do objectivists think about Elinor Ostrom and her ideas regarding the principles for managing the commmons?',\n",
              "       'Which machines are used as both motor as well as generator?',\n",
              "       'Have you ever had a gun pulled on you? Why? And what did it feel like, both during the experience, and then after?',\n",
              "       'As a Chinese, would it be weird if I use Baymax as my English name?',\n",
              "       'What is the contribution of Rajendra prsad in agriculture?',\n",
              "       'How do I write the best cliffhanger for a romantic fiction?',\n",
              "       'Does North Koreans follows the South Korean serials?',\n",
              "       'Can an element be broken down further into another substance?',\n",
              "       'Are there any Good books on parenting?'], dtype=object)"
            ]
          },
          "metadata": {
            "tags": []
          },
          "execution_count": 9
        }
      ]
    },
    {
      "cell_type": "code",
      "metadata": {
        "id": "G_E6VWNTs8Mn",
        "colab": {
          "base_uri": "https://localhost:8080/"
        },
        "outputId": "38e906f9-609c-4fa3-c560-ddd312a8ce47"
      },
      "source": [
        "# Hedef labellara bakalım\n",
        "train_df['target'].sample(10).values"
      ],
      "execution_count": null,
      "outputs": [
        {
          "output_type": "execute_result",
          "data": {
            "text/plain": [
              "array([0, 0, 0, 0, 0, 0, 0, 0, 0, 0])"
            ]
          },
          "metadata": {
            "tags": []
          },
          "execution_count": 10
        }
      ]
    },
    {
      "cell_type": "code",
      "metadata": {
        "colab": {
          "base_uri": "https://localhost:8080/"
        },
        "id": "bHCTOrLaP-Ay",
        "outputId": "de1a6530-85e0-46da-fa1a-8bd7b6e61214"
      },
      "source": [
        "# tf.data kullanmak için tensor_slices methodunu kullanıyoruz. \n",
        "# Daha performanslı\n",
        "\n",
        "train_positive = train_df[train_df['target'] == 1]\n",
        "train_negative = train_df[train_df['target'] == 0]\n",
        "\n",
        "pos_ds = tf.data.Dataset.from_tensor_slices((train_positive['question_text'].values,\n",
        "                      train_positive['target'].values)).shuffle(6400).repeat()\n",
        "\n",
        "neg_ds = tf.data.Dataset.from_tensor_slices((train_negative['question_text'].values,\n",
        "                      train_negative['target'].values)).shuffle(98000).repeat()\n",
        "\n",
        "resampled_ds = tf.data.experimental.sample_from_datasets([pos_ds, neg_ds], \n",
        "                                                         weights=[0.5, 0.5])\n",
        "resampled_ds = resampled_ds.batch(128).prefetch(tf.data.AUTOTUNE)\n",
        "\n",
        "resampled_ds"
      ],
      "execution_count": null,
      "outputs": [
        {
          "output_type": "execute_result",
          "data": {
            "text/plain": [
              "<PrefetchDataset shapes: ((None,), (None,)), types: (tf.string, tf.int64)>"
            ]
          },
          "metadata": {
            "tags": []
          },
          "execution_count": 11
        }
      ]
    },
    {
      "cell_type": "code",
      "metadata": {
        "colab": {
          "base_uri": "https://localhost:8080/"
        },
        "id": "dWt0CkiQS93Q",
        "outputId": "5bda0771-874a-46c7-e5d9-56f88f26676e"
      },
      "source": [
        "tf.data.experimental.cardinality(resampled_ds).numpy()"
      ],
      "execution_count": null,
      "outputs": [
        {
          "output_type": "execute_result",
          "data": {
            "text/plain": [
              "-2"
            ]
          },
          "metadata": {
            "tags": []
          },
          "execution_count": 12
        }
      ]
    },
    {
      "cell_type": "code",
      "metadata": {
        "colab": {
          "base_uri": "https://localhost:8080/"
        },
        "id": "s3aznA6oS881",
        "outputId": "596a79cd-9ef5-44e1-f8ec-eeefd4a7b4d5"
      },
      "source": [
        "steps_per_epoch = np.ceil(2.0*pos/128)\n",
        "steps_per_epoch"
      ],
      "execution_count": null,
      "outputs": [
        {
          "output_type": "execute_result",
          "data": {
            "text/plain": [
              "1011.0"
            ]
          },
          "metadata": {
            "tags": []
          },
          "execution_count": 13
        }
      ]
    },
    {
      "cell_type": "code",
      "metadata": {
        "colab": {
          "base_uri": "https://localhost:8080/"
        },
        "id": "LosmBeLMRTzJ",
        "outputId": "c0df9388-393d-4674-c777-0479cd3ba8d1"
      },
      "source": [
        "valid_ds = tf.data.Dataset.from_tensor_slices((valid_df['question_text'].values,\n",
        "                                              valid_df['target'].values ))\n",
        "\n",
        "valid_ds = valid_ds.batch(128).prefetch(tf.data.AUTOTUNE)\n",
        "\n",
        "valid_ds"
      ],
      "execution_count": null,
      "outputs": [
        {
          "output_type": "execute_result",
          "data": {
            "text/plain": [
              "<PrefetchDataset shapes: ((None,), (None,)), types: (tf.string, tf.int64)>"
            ]
          },
          "metadata": {
            "tags": []
          },
          "execution_count": 14
        }
      ]
    },
    {
      "cell_type": "code",
      "metadata": {
        "colab": {
          "base_uri": "https://localhost:8080/"
        },
        "id": "9SHaJhMYQ2v4",
        "outputId": "a2f075db-6440-4091-8054-e311662bc3a1"
      },
      "source": [
        "for sentences, labels in resampled_ds.take(1):\n",
        "  print(labels.numpy().mean())"
      ],
      "execution_count": null,
      "outputs": [
        {
          "output_type": "stream",
          "text": [
            "0.484375\n"
          ],
          "name": "stdout"
        }
      ]
    },
    {
      "cell_type": "markdown",
      "metadata": {
        "id": "Hu6lFucLp4Bn"
      },
      "source": [
        "## TensorFlow Hub"
      ]
    },
    {
      "cell_type": "markdown",
      "metadata": {
        "id": "3ZrM-BpDrxUG"
      },
      "source": [
        "TF Hub sağolsun, hazır train edilmiş modeller sunuyor. Biz şimdilik Text Embedding kullanacağız. [Modullere buradan ulaşabilirsiniz.](https://tfhub.dev/s?module-type=text-embedding&tf-version=tf2&q=tf2)"
      ]
    },
    {
      "cell_type": "markdown",
      "metadata": {
        "id": "CPmlrWxY9qow"
      },
      "source": [
        "Burada asıl nokta, Transfer Learning kullanmaktır. Bu sayede baştan bir modeli eğitmek yerine, eğitilmiş bir modeli, kendi yapacağımız bir modelin içinde kullanabiliriz vb. Bu şekilde \"computation\" yapmaktan önemli ölçüde kurtulabiliriz."
      ]
    },
    {
      "cell_type": "markdown",
      "metadata": {
        "id": "bTTELVrtqPwW"
      },
      "source": [
        "## Modelleri Ayarlama Fonksiyonu"
      ]
    },
    {
      "cell_type": "code",
      "metadata": {
        "id": "B6di0eiFs8ch"
      },
      "source": [
        "def train_and_evaluate_model(module_url, embed_size, name, trainable=True):\n",
        "  # trainable = True yaparsanız embedding eğitebilir olur.\n",
        "\n",
        "  hub_layer = hub.KerasLayer(module_url, input_shape=[], \n",
        "                             output_shape=[embed_size], dtype=tf.string, \n",
        "                             trainable=trainable)\n",
        "  \n",
        "  model = tf.keras.models.Sequential([\n",
        "                            hub_layer,\n",
        "                            tf.keras.layers.Dense(128, activation='relu'),\n",
        "                            tf.keras.layers.Dense(1, activation='sigmoid')\n",
        "  ])\n",
        "  model.compile(optimizer=tf.keras.optimizers.Adam(learning_rate=0.0007),\n",
        "              loss=tf.losses.BinaryCrossentropy(),\n",
        "              metrics=[tf.keras.metrics.BinaryAccuracy(), \n",
        "                       tf.keras.metrics.Precision(),\n",
        "                       tf.keras.metrics.Recall(),\n",
        "                       tf.keras.metrics.TrueNegatives(name='TN'),\n",
        "                       tf.keras.metrics.TruePositives(name='TP'),\n",
        "                       tf.keras.metrics.FalseNegatives(name = 'FN'),\n",
        "                       tf.keras.metrics.FalsePositives(name='FP')])\n",
        "  model.summary()\n",
        "  history = model.fit(resampled_ds,\n",
        "                  epochs=5,\n",
        "                  validation_data=valid_ds,\n",
        "                  callbacks=[tf.keras.callbacks.ReduceLROnPlateau(min_lr = 1e-5,\n",
        "                                                                patience = 2)],\n",
        "                    verbose=1,\n",
        "                    steps_per_epoch = steps_per_epoch)\n",
        "\n",
        "  return history, model"
      ],
      "execution_count": null,
      "outputs": []
    },
    {
      "cell_type": "markdown",
      "metadata": {
        "id": "51YeToW1qpdi"
      },
      "source": [
        "## 5 Farklı Modeli Test Edeceğiz"
      ]
    },
    {
      "cell_type": "code",
      "metadata": {
        "id": "JmKhdRH1SsXG"
      },
      "source": [
        "histories = {}"
      ],
      "execution_count": null,
      "outputs": []
    },
    {
      "cell_type": "code",
      "metadata": {
        "id": "GWfWIypew-lk",
        "cellView": "form"
      },
      "source": [
        "module_url = \"https://tfhub.dev/google/tf2-preview/nnlm-en-dim128/1\" #@param [\"https://tfhub.dev/google/tf2-preview/gnews-swivel-20dim/1\", \"https://tfhub.dev/google/tf2-preview/nnlm-en-dim50/1\", \"https://tfhub.dev/google/tf2-preview/nnlm-en-dim128/1\", \"https://tfhub.dev/google/universal-sentence-encoder/4\", \"https://tfhub.dev/google/universal-sentence-encoder-large/5\"] {allow-input: true}"
      ],
      "execution_count": null,
      "outputs": []
    },
    {
      "cell_type": "markdown",
      "metadata": {
        "id": "MQGZds5sSM8B"
      },
      "source": [
        "* Her ModuleURL seçtikten sonra module_url satırını run edin\n",
        "* histories kısmında isimleri ve embed_size'ları değiştirin :)"
      ]
    },
    {
      "cell_type": "markdown",
      "metadata": {
        "id": "K54tiuojScuh"
      },
      "source": [
        "--> Callbacklerden dolayı warning çıkarsa ignore edebilirsiniz. Burada amaç, nasıl hub layerlarının nasıl kullanıldığını göstermektir."
      ]
    },
    {
      "cell_type": "code",
      "metadata": {
        "id": "kO667fKCs8fi"
      },
      "source": [
        "histories['nnlm-en-dim128'], model = train_and_evaluate_model(module_url, \n",
        "                                                embed_size=128, \n",
        "                                                name='nnlm-en-dim128')"
      ],
      "execution_count": null,
      "outputs": []
    },
    {
      "cell_type": "code",
      "metadata": {
        "colab": {
          "base_uri": "https://localhost:8080/"
        },
        "id": "atN9fPovcLef",
        "outputId": "c9fa5cc3-93ef-4eef-e061-7a22302be34e"
      },
      "source": [
        "valid_sonuclar = model.evaluate(valid_ds, verbose=False)\n",
        "for name, value in zip(model.metrics_names, valid_sonuclar):\n",
        "  print(name,': ', value)\n",
        "print()"
      ],
      "execution_count": null,
      "outputs": [
        {
          "output_type": "stream",
          "text": [
            "loss :  0.24138766527175903\n",
            "binary_accuracy :  0.8967748284339905\n",
            "precision_1 :  0.3608857989311218\n",
            "recall_1 :  0.8672648668289185\n",
            "TN :  44049.0\n",
            "TP :  2803.0\n",
            "FN :  429.0\n",
            "FP :  4964.0\n",
            "\n"
          ],
          "name": "stdout"
        }
      ]
    },
    {
      "cell_type": "code",
      "metadata": {
        "colab": {
          "base_uri": "https://localhost:8080/"
        },
        "id": "J6H-E79_d8n3",
        "outputId": "2e8da8e9-6f66-4b6d-fe15-005ee3f77769"
      },
      "source": [
        "train_sonuclar = model.evaluate(resampled_ds, verbose=False, \n",
        "                                steps = steps_per_epoch)\n",
        "for name, value in zip(model.metrics_names, train_sonuclar):\n",
        "  print(name, ': ', value)\n",
        "print()"
      ],
      "execution_count": null,
      "outputs": [
        {
          "output_type": "stream",
          "text": [
            "loss :  0.1745954304933548\n",
            "binary_accuracy :  0.9342312812805176\n",
            "precision_1 :  0.9168432950973511\n",
            "recall_1 :  0.9552220106124878\n",
            "TN :  59033.0\n",
            "TP :  61864.0\n",
            "FN :  2900.0\n",
            "FP :  5611.0\n",
            "\n"
          ],
          "name": "stdout"
        }
      ]
    },
    {
      "cell_type": "code",
      "metadata": {
        "id": "aFdsq1DgeXQc"
      },
      "source": [
        ""
      ],
      "execution_count": null,
      "outputs": []
    }
  ]
}